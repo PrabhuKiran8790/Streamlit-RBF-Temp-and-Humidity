{
 "cells": [
  {
   "cell_type": "code",
   "execution_count": 5,
   "metadata": {},
   "outputs": [
    {
     "data": {
      "text/plain": [
       "{'neurons': 12,\n",
       " 'centers': array([[ 5.21295156e-01,  4.78345649e-01,  4.36248647e-01,\n",
       "          5.33752706e-01,  5.00000000e-01],\n",
       "        [ 2.66129620e-01,  2.63505140e-01,  8.43864117e-01,\n",
       "          8.50735153e-01,  5.00000000e-01],\n",
       "        [ 5.03770073e-01,  5.05268637e-01,  8.40472428e-01,\n",
       "          8.40669966e-01, -5.55111512e-17],\n",
       "        [ 4.80123617e-01,  4.98991542e-01,  7.45325901e-01,\n",
       "          7.00814751e-01,  1.00000000e+00],\n",
       "        [ 8.25456630e-01,  8.19436481e-01,  2.21010581e-01,\n",
       "          2.26220039e-01,  1.00000000e+00],\n",
       "        [ 5.89986257e-01,  5.88955522e-01,  6.53656126e-01,\n",
       "          6.51968050e-01, -1.44328993e-15],\n",
       "        [ 5.73154312e-01,  5.74425911e-01,  2.37748965e-01,\n",
       "          2.20148886e-01,  5.00000000e-01],\n",
       "        [ 6.51955363e-01,  6.53212024e-01,  4.27080572e-01,\n",
       "          4.33408428e-01, -1.05471187e-15],\n",
       "        [ 6.82675696e-01,  7.01782876e-01,  4.56640554e-01,\n",
       "          4.03192749e-01,  1.00000000e+00],\n",
       "        [ 3.97658661e-01,  3.87427881e-01,  7.50265299e-01,\n",
       "          7.72705164e-01,  5.00000000e-01],\n",
       "        [ 6.04546665e-01,  5.64804953e-01,  5.44577045e-01,\n",
       "          6.37965075e-01,  1.00000000e+00],\n",
       "        [ 3.31553250e-01,  4.90540128e-01,  7.81777957e-01,\n",
       "          3.88073210e-01,  5.00000000e-01]]),\n",
       " 'sigma': array([0.52520125, 0.70030076, 0.78068081, 0.69138299, 0.88502521,\n",
       "        0.71328648, 0.68017946, 0.76059875, 0.7029504 , 0.57054437,\n",
       "        0.66391905, 0.58430797]),\n",
       " 'batch_size': 32,\n",
       " 'lr': 0.1,\n",
       " 'loss_fn': keras.losses.MeanSquaredError}"
      ]
     },
     "execution_count": 5,
     "metadata": {},
     "output_type": "execute_result"
    }
   ],
   "source": [
    "import joblib as jbl\n",
    "\n",
    "jbl.load(\"models/temperature_Metadata_N_12_P_11_bs_32.jbl\")"
   ]
  },
  {
   "cell_type": "code",
   "execution_count": 6,
   "metadata": {},
   "outputs": [],
   "source": [
    "import tensorflow as tf"
   ]
  },
  {
   "cell_type": "code",
   "execution_count": 11,
   "metadata": {},
   "outputs": [],
   "source": [
    "import numpy as np\n",
    "\n"
   ]
  },
  {
   "cell_type": "code",
   "execution_count": 18,
   "metadata": {},
   "outputs": [
    {
     "name": "stdout",
     "output_type": "stream",
     "text": [
      "1/1 [==============================] - 0s 74ms/step\n"
     ]
    },
    {
     "name": "stderr",
     "output_type": "stream",
     "text": [
      "2023-03-02 22:27:16.433237: I tensorflow/core/grappler/optimizers/custom_graph_optimizer_registry.cc:113] Plugin optimizer for device_type GPU is enabled.\n"
     ]
    }
   ],
   "source": [
    "import numpy as np\n",
    "\n",
    "inputs = np.array([0.0, 0.0, 0.0, 0.0, 0.0])\n",
    "temp = predict(inputs, \"models/temperature_Metadata_N_12_P_11_bs_32.jbl\", \"models/temperature_RBF_ANN_model_bs_32_N_12_P_11.h5\")"
   ]
  },
  {
   "cell_type": "code",
   "execution_count": 19,
   "metadata": {},
   "outputs": [
    {
     "data": {
      "text/plain": [
       "array([[0.3461448]], dtype=float32)"
      ]
     },
     "execution_count": 19,
     "metadata": {},
     "output_type": "execute_result"
    }
   ],
   "source": [
    "temp"
   ]
  },
  {
   "cell_type": "code",
   "execution_count": 3,
   "metadata": {},
   "outputs": [
    {
     "data": {
      "text/html": [
       "<img src=\"https://mermaid.ink/img/CmdyYXBoIExSOwogICAgQS0tPiBCICYgQyAmIEQ7CiAgICBCLS0+IEEgJiBFOwogICAgQy0tPiBBICYgRTsKICAgIEQtLT4gQSAmIEU7CiAgICBFLS0+IEIgJiBDICYgRDsK\"/>"
      ],
      "text/plain": [
       "<IPython.core.display.Image object>"
      ]
     },
     "metadata": {},
     "output_type": "display_data"
    }
   ],
   "source": [
    "import base64\n",
    "from IPython.display import Image, display\n",
    "import matplotlib.pyplot as plt\n",
    "\n",
    "def mm(graph):\n",
    "  graphbytes = graph.encode(\"ascii\")\n",
    "  base64_bytes = base64.b64encode(graphbytes)\n",
    "  base64_string = base64_bytes.decode(\"ascii\")\n",
    "  display(Image(url=f\"https://mermaid.ink/img/{base64_string}\"))\n",
    "\n",
    "mm(\"\"\"\n",
    "graph LR;\n",
    "    A--> B & C & D;\n",
    "    B--> A & E;\n",
    "    C--> A & E;\n",
    "    D--> A & E;\n",
    "    E--> B & C & D;\n",
    "\"\"\")"
   ]
  },
  {
   "cell_type": "code",
   "execution_count": 6,
   "metadata": {},
   "outputs": [],
   "source": [
    "humidity_data = jbl.load('models/all_humidity_data.joblib')"
   ]
  },
  {
   "cell_type": "code",
   "execution_count": 7,
   "metadata": {},
   "outputs": [
    {
     "data": {
      "text/plain": [
       "{'modified_data_orig':        T-1  T-24   H-1  H-24  Season  Humidity(H)\n",
       " 0     62.0  65.0  89.0  90.0     1.0         90.0\n",
       " 1     65.0  65.0  90.0  90.0     1.0         90.0\n",
       " 2     65.0  65.0  90.0  90.0     1.0         90.0\n",
       " 3     65.0  78.0  90.0  49.0     1.0         48.0\n",
       " 4     78.0  78.0  48.0  49.0     1.0         48.0\n",
       " ...    ...   ...   ...   ...     ...          ...\n",
       " 8731  67.0  69.0  92.0  88.0     1.0         92.0\n",
       " 8732  67.0  69.0  92.0  88.0     1.0         92.0\n",
       " 8733  67.0  65.0  92.0  94.0     1.0         94.0\n",
       " 8734  65.0  65.0  94.0  94.0     1.0         94.0\n",
       " 8735  65.0  65.0  94.0  94.0     1.0         94.0\n",
       " \n",
       " [8736 rows x 6 columns],\n",
       " 'humidity_x_scalar': MinMaxScaler(),\n",
       " 'humidity_y_scalar': MinMaxScaler(),\n",
       " 'humidity_x_data_scaled': array([[0.20689655, 0.25862069, 0.85227273, 0.86363636, 0.5       ],\n",
       "        [0.25862069, 0.25862069, 0.86363636, 0.86363636, 0.5       ],\n",
       "        [0.25862069, 0.25862069, 0.86363636, 0.86363636, 0.5       ],\n",
       "        ...,\n",
       "        [0.29310345, 0.25862069, 0.88636364, 0.90909091, 0.5       ],\n",
       "        [0.25862069, 0.25862069, 0.90909091, 0.90909091, 0.5       ],\n",
       "        [0.25862069, 0.25862069, 0.90909091, 0.90909091, 0.5       ]]),\n",
       " 'humidity_y_data_scaled': array([[0.86363636],\n",
       "        [0.86363636],\n",
       "        [0.86363636],\n",
       "        ...,\n",
       "        [0.90909091],\n",
       "        [0.90909091],\n",
       "        [0.90909091]]),\n",
       " 'X_train_humidity': array([[0.77586207, 0.72413793, 0.29545455, 0.27272727, 1.        ],\n",
       "        [0.60344828, 0.63793103, 0.57954545, 0.68181818, 1.        ],\n",
       "        [0.89655172, 0.72413793, 0.07954545, 0.26136364, 1.        ],\n",
       "        ...,\n",
       "        [0.63793103, 0.5862069 , 0.52272727, 0.71590909, 0.        ],\n",
       "        [0.25862069, 0.20689655, 0.77272727, 0.78409091, 0.5       ],\n",
       "        [0.32758621, 0.36206897, 0.88636364, 0.89772727, 0.        ]]),\n",
       " 'X_test_humidity': array([[0.46551724, 0.39655172, 0.31818182, 0.47727273, 0.5       ],\n",
       "        [0.46551724, 0.48275862, 0.68181818, 0.64772727, 1.        ],\n",
       "        [0.62068966, 0.63793103, 0.34090909, 0.38636364, 0.        ],\n",
       "        ...,\n",
       "        [0.79310345, 0.70689655, 0.14772727, 0.34090909, 1.        ],\n",
       "        [0.51724138, 0.51724138, 0.82954545, 0.78409091, 0.        ],\n",
       "        [0.68965517, 0.48275862, 0.64772727, 0.89772727, 1.        ]]),\n",
       " 'y_train_humidity': array([[0.29545455],\n",
       "        [0.57954545],\n",
       "        [0.22727273],\n",
       "        ...,\n",
       "        [0.52272727],\n",
       "        [0.77272727],\n",
       "        [0.88636364]]),\n",
       " 'y_test_humidity': array([[0.31818182],\n",
       "        [0.68181818],\n",
       "        [0.34090909],\n",
       "        ...,\n",
       "        [0.27272727],\n",
       "        [0.82954545],\n",
       "        [0.68181818]]),\n",
       " 'metadata': {'test_size': 0.33, 'random_state': 42}}"
      ]
     },
     "execution_count": 7,
     "metadata": {},
     "output_type": "execute_result"
    }
   ],
   "source": [
    "humidity_data"
   ]
  },
  {
   "cell_type": "code",
   "execution_count": 10,
   "metadata": {},
   "outputs": [
    {
     "name": "stderr",
     "output_type": "stream",
     "text": [
      "2023-03-06 12:10:28.152308: I tensorflow/core/common_runtime/pluggable_device/pluggable_device_factory.cc:305] Could not identify NUMA node of platform GPU ID 0, defaulting to 0. Your kernel may not have been built with NUMA support.\n",
      "2023-03-06 12:10:28.152823: I tensorflow/core/common_runtime/pluggable_device/pluggable_device_factory.cc:271] Created TensorFlow device (/job:localhost/replica:0/task:0/device:GPU:0 with 0 MB memory) -> physical PluggableDevice (device: 0, name: METAL, pci bus id: <undefined>)\n",
      "2023-03-06 12:10:28.346575: W tensorflow/core/platform/profile_utils/cpu_utils.cc:128] Failed to get CPU frequency: 0 Hz\n"
     ]
    },
    {
     "name": "stdout",
     "output_type": "stream",
     "text": [
      "Metal device set to: Apple M1\n",
      "\n",
      "systemMemory: 8.00 GB\n",
      "maxCacheSize: 2.67 GB\n",
      "\n",
      "1/1 [==============================] - 0s 101ms/step\n"
     ]
    },
    {
     "name": "stderr",
     "output_type": "stream",
     "text": [
      "2023-03-06 12:10:28.406845: I tensorflow/core/grappler/optimizers/custom_graph_optimizer_registry.cc:113] Plugin optimizer for device_type GPU is enabled.\n"
     ]
    }
   ],
   "source": [
    "from predict import predict\n",
    "import numpy as np\n",
    "\n",
    "inputs = np.array([89.6, 91.4, 97, 98, 0])\n",
    "humidity = humidity_data['humidity_y_scalar'].inverse_transform(predict(inputs, \"models/humidity_Metadata_N_12_P_10_bs_128.jbl\", \"models/humidity_RBF_ANN_model_bs_128_N_12_P_10.h5\"))\n"
   ]
  },
  {
   "cell_type": "code",
   "execution_count": 11,
   "metadata": {},
   "outputs": [
    {
     "data": {
      "text/plain": [
       "array([[29.749146]], dtype=float32)"
      ]
     },
     "execution_count": 11,
     "metadata": {},
     "output_type": "execute_result"
    }
   ],
   "source": [
    "humidity"
   ]
  },
  {
   "cell_type": "code",
   "execution_count": 17,
   "metadata": {},
   "outputs": [
    {
     "name": "stdout",
     "output_type": "stream",
     "text": [
      "1/1 [==============================] - 0s 32ms/step\n"
     ]
    },
    {
     "name": "stderr",
     "output_type": "stream",
     "text": [
      "2023-03-06 12:15:30.419909: I tensorflow/core/grappler/optimizers/custom_graph_optimizer_registry.cc:113] Plugin optimizer for device_type GPU is enabled.\n"
     ]
    },
    {
     "data": {
      "text/plain": [
       "array([[0.17896757]], dtype=float32)"
      ]
     },
     "execution_count": 17,
     "metadata": {},
     "output_type": "execute_result"
    }
   ],
   "source": [
    "y_hat = predict(inputs, \"models/humidity_Metadata_N_12_P_10_bs_128.jbl\", \"models/humidity_RBF_ANN_model_bs_128_N_12_P_10.h5\")\n",
    "y_hat"
   ]
  },
  {
   "cell_type": "code",
   "execution_count": 13,
   "metadata": {},
   "outputs": [],
   "source": [
    "y_scalar = humidity_data['humidity_y_scalar']"
   ]
  },
  {
   "cell_type": "code",
   "execution_count": 18,
   "metadata": {},
   "outputs": [
    {
     "data": {
      "text/plain": [
       "array([[29.74914575]])"
      ]
     },
     "execution_count": 18,
     "metadata": {},
     "output_type": "execute_result"
    }
   ],
   "source": [
    "(y_scalar.data_max_ - y_scalar.data_min_) * y_hat + y_scalar.data_min_"
   ]
  },
  {
   "cell_type": "code",
   "execution_count": null,
   "metadata": {},
   "outputs": [],
   "source": []
  }
 ],
 "metadata": {
  "kernelspec": {
   "display_name": "base",
   "language": "python",
   "name": "python3"
  },
  "language_info": {
   "codemirror_mode": {
    "name": "ipython",
    "version": 3
   },
   "file_extension": ".py",
   "mimetype": "text/x-python",
   "name": "python",
   "nbconvert_exporter": "python",
   "pygments_lexer": "ipython3",
   "version": "3.9.12"
  },
  "orig_nbformat": 4
 },
 "nbformat": 4,
 "nbformat_minor": 2
}
